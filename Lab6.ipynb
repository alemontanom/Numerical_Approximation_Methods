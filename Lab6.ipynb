{
 "cells": [
  {
   "cell_type": "code",
   "execution_count": 1,
   "metadata": {},
   "outputs": [],
   "source": [
    "import numpy as np "
   ]
  },
  {
   "cell_type": "code",
   "execution_count": 70,
   "metadata": {},
   "outputs": [],
   "source": [
    "f = lambda x: np.exp(-(x**2)) \n",
    "F = lambda x: np.sqrt(np.pi)/2 + simp(f, 0, x, 100) - np.sqrt(np.pi)*np.cos(x)"
   ]
  },
  {
   "cell_type": "code",
   "execution_count": 73,
   "metadata": {},
   "outputs": [],
   "source": [
    "G = lambda x: np.sqrt(np.pi)/2 + simp(f, 0, x, 1000) - np.sqrt(np.pi)*np.cos(x)"
   ]
  },
  {
   "cell_type": "code",
   "execution_count": 77,
   "metadata": {},
   "outputs": [],
   "source": [
    "H = lambda x: np.sqrt(np.pi)/2 + simp(f, 0, x, 50) - np.sqrt(np.pi)*np.cos(x)"
   ]
  },
  {
   "cell_type": "code",
   "execution_count": 69,
   "metadata": {},
   "outputs": [],
   "source": [
    "der = lambda x: np.exp(-x**2)+np.sqrt(np.pi)*np.sin(x)"
   ]
  },
  {
   "cell_type": "code",
   "execution_count": 62,
   "metadata": {},
   "outputs": [],
   "source": [
    "def simp(f, a, b, m):\n",
    "    h =(b-a)/(m)\n",
    "    suma = 0\n",
    "    for i in range (0, m):\n",
    "        b = a+h\n",
    "        xk2 = a+h/2\n",
    "        s = (h/6)*(f(a)+4*f(xk2)+f(b))\n",
    "        suma = suma + s\n",
    "        a=b\n",
    "    return suma"
   ]
  },
  {
   "cell_type": "code",
   "execution_count": 27,
   "metadata": {},
   "outputs": [],
   "source": [
    "def newton (a, tol, f, der):\n",
    "    aproxn=[]\n",
    "    errorn=[]\n",
    "    b=a-f(a)/der(a)\n",
    "    while (abs(a-b)>tol):\n",
    "        a=b\n",
    "        b=a-f(a)/der(a) \n",
    "        aproxn.append(a)\n",
    "        errorn.append(a-b)\n",
    "    return b"
   ]
  },
  {
   "cell_type": "code",
   "execution_count": 71,
   "metadata": {
    "scrolled": true
   },
   "outputs": [
    {
     "data": {
      "text/plain": [
       "0.6243200591641369"
      ]
     },
     "execution_count": 71,
     "metadata": {},
     "output_type": "execute_result"
    }
   ],
   "source": [
    "newton(0, 10**(-8), F, der)"
   ]
  },
  {
   "cell_type": "code",
   "execution_count": 74,
   "metadata": {},
   "outputs": [
    {
     "data": {
      "text/plain": [
       "0.6243200591652922"
      ]
     },
     "execution_count": 74,
     "metadata": {},
     "output_type": "execute_result"
    }
   ],
   "source": [
    "newton(0, 10**(-8), G, der)"
   ]
  },
  {
   "cell_type": "code",
   "execution_count": 78,
   "metadata": {},
   "outputs": [
    {
     "data": {
      "text/plain": [
       "0.6243200591467934"
      ]
     },
     "execution_count": 78,
     "metadata": {},
     "output_type": "execute_result"
    }
   ],
   "source": [
    "newton(0, 10**(-8), H, der)"
   ]
  },
  {
   "cell_type": "code",
   "execution_count": null,
   "metadata": {},
   "outputs": [],
   "source": []
  }
 ],
 "metadata": {
  "kernelspec": {
   "display_name": "Python 3",
   "language": "python",
   "name": "python3"
  },
  "language_info": {
   "codemirror_mode": {
    "name": "ipython",
    "version": 3
   },
   "file_extension": ".py",
   "mimetype": "text/x-python",
   "name": "python",
   "nbconvert_exporter": "python",
   "pygments_lexer": "ipython3",
   "version": "3.8.5"
  }
 },
 "nbformat": 4,
 "nbformat_minor": 4
}

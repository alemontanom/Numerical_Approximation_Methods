{
 "cells": [
  {
   "cell_type": "code",
   "execution_count": 191,
   "metadata": {},
   "outputs": [],
   "source": [
    "import pandas as pd"
   ]
  },
  {
   "cell_type": "code",
   "execution_count": 192,
   "metadata": {},
   "outputs": [],
   "source": [
    "import numpy as np"
   ]
  },
  {
   "cell_type": "code",
   "execution_count": 193,
   "metadata": {},
   "outputs": [],
   "source": [
    "f= lambda x:x-np.exp(-x)\n",
    "der = lambda x:1+np.exp(-x)\n",
    "aprox = []\n",
    "error = []"
   ]
  },
  {
   "cell_type": "code",
   "execution_count": 194,
   "metadata": {},
   "outputs": [],
   "source": [
    "def biseccion (a, b, tol, f):\n",
    "    fb=f(b)\n",
    "    while (abs(b-a) > tol):\n",
    "        c =(a + b)/2.0\n",
    "        fc = f(c)\n",
    "        if (fc == 0.0):\n",
    "            a=c\n",
    "            b=c\n",
    "            fb=fc\n",
    "        elif (fc*fb < 0.0):\n",
    "            a=c\n",
    "        else: \n",
    "            b=c\n",
    "            fb=fc\n",
    "        aprox.append(c)\n",
    "        error.append(fc)\n",
    "    return c, fc "
   ]
  },
  {
   "cell_type": "code",
   "execution_count": 195,
   "metadata": {},
   "outputs": [
    {
     "data": {
      "text/plain": [
       "(0.5671432837843895, -1.0382942394748795e-08)"
      ]
     },
     "execution_count": 195,
     "metadata": {},
     "output_type": "execute_result"
    }
   ],
   "source": [
    "biseccion(0, 1, 10**(-8), f)"
   ]
  },
  {
   "cell_type": "code",
   "execution_count": 209,
   "metadata": {},
   "outputs": [],
   "source": [
    "aproxn=[]\n",
    "errorn=[]"
   ]
  },
  {
   "cell_type": "code",
   "execution_count": 206,
   "metadata": {},
   "outputs": [],
   "source": [
    "def newton (a, tol, f, x, der):\n",
    "    while abs(a-x)>tol:\n",
    "        b = a - f(a)/der(a)\n",
    "        a = b\n",
    "        aproxn.append('%.12f'%a)\n",
    "        errorn.append(a-x)\n",
    "    return a"
   ]
  },
  {
   "cell_type": "code",
   "execution_count": 210,
   "metadata": {},
   "outputs": [
    {
     "data": {
      "text/plain": [
       "0.5671432904097811"
      ]
     },
     "execution_count": 210,
     "metadata": {},
     "output_type": "execute_result"
    }
   ],
   "source": [
    "newton(0, 10**(-12), f, 0.567143290409784, der)"
   ]
  },
  {
   "cell_type": "code",
   "execution_count": 211,
   "metadata": {},
   "outputs": [
    {
     "data": {
      "text/plain": [
       "['0.500000000000', '0.566311003197', '0.567143165035', '0.567143290410']"
      ]
     },
     "execution_count": 211,
     "metadata": {},
     "output_type": "execute_result"
    }
   ],
   "source": [
    "aproxn"
   ]
  },
  {
   "cell_type": "code",
   "execution_count": 212,
   "metadata": {},
   "outputs": [],
   "source": [
    "while (len(aproxn)<len(aprox)):\n",
    "    aproxn.append(\"-\")\n",
    "    errorn.append(\"-\")"
   ]
  },
  {
   "cell_type": "code",
   "execution_count": 213,
   "metadata": {},
   "outputs": [],
   "source": [
    "df=pd.DataFrame()"
   ]
  },
  {
   "cell_type": "code",
   "execution_count": 214,
   "metadata": {},
   "outputs": [],
   "source": [
    "df[\"Aprox Biseccion\"]=(aprox)\n",
    "df[\"Error Biseccion\"]=(error)\n",
    "df[\"Aprox Newton\"]=(aproxn)\n",
    "df[\"Error Newton\"]=(errorn)\n",
    "df[\"Aprox Newton\"].digits=12"
   ]
  },
  {
   "cell_type": "code",
   "execution_count": 215,
   "metadata": {},
   "outputs": [
    {
     "data": {
      "text/html": [
       "<div>\n",
       "<style scoped>\n",
       "    .dataframe tbody tr th:only-of-type {\n",
       "        vertical-align: middle;\n",
       "    }\n",
       "\n",
       "    .dataframe tbody tr th {\n",
       "        vertical-align: top;\n",
       "    }\n",
       "\n",
       "    .dataframe thead th {\n",
       "        text-align: right;\n",
       "    }\n",
       "</style>\n",
       "<table border=\"1\" class=\"dataframe\">\n",
       "  <thead>\n",
       "    <tr style=\"text-align: right;\">\n",
       "      <th></th>\n",
       "      <th>Aprox Biseccion</th>\n",
       "      <th>Error Biseccion</th>\n",
       "      <th>Aprox Newton</th>\n",
       "      <th>Error Newton</th>\n",
       "    </tr>\n",
       "  </thead>\n",
       "  <tbody>\n",
       "    <tr>\n",
       "      <th>0</th>\n",
       "      <td>0.500000</td>\n",
       "      <td>-1.065307e-01</td>\n",
       "      <td>0.500000000000</td>\n",
       "      <td>-0.0671433</td>\n",
       "    </tr>\n",
       "    <tr>\n",
       "      <th>1</th>\n",
       "      <td>0.750000</td>\n",
       "      <td>2.776334e-01</td>\n",
       "      <td>0.566311003197</td>\n",
       "      <td>-0.000832287</td>\n",
       "    </tr>\n",
       "    <tr>\n",
       "      <th>2</th>\n",
       "      <td>0.625000</td>\n",
       "      <td>8.973857e-02</td>\n",
       "      <td>0.567143165035</td>\n",
       "      <td>-1.25375e-07</td>\n",
       "    </tr>\n",
       "    <tr>\n",
       "      <th>3</th>\n",
       "      <td>0.562500</td>\n",
       "      <td>-7.282825e-03</td>\n",
       "      <td>0.567143290410</td>\n",
       "      <td>-2.88658e-15</td>\n",
       "    </tr>\n",
       "    <tr>\n",
       "      <th>4</th>\n",
       "      <td>0.593750</td>\n",
       "      <td>4.149755e-02</td>\n",
       "      <td>-</td>\n",
       "      <td>-</td>\n",
       "    </tr>\n",
       "    <tr>\n",
       "      <th>5</th>\n",
       "      <td>0.578125</td>\n",
       "      <td>1.717584e-02</td>\n",
       "      <td>-</td>\n",
       "      <td>-</td>\n",
       "    </tr>\n",
       "    <tr>\n",
       "      <th>6</th>\n",
       "      <td>0.570312</td>\n",
       "      <td>4.963760e-03</td>\n",
       "      <td>-</td>\n",
       "      <td>-</td>\n",
       "    </tr>\n",
       "    <tr>\n",
       "      <th>7</th>\n",
       "      <td>0.566406</td>\n",
       "      <td>-1.155202e-03</td>\n",
       "      <td>-</td>\n",
       "      <td>-</td>\n",
       "    </tr>\n",
       "    <tr>\n",
       "      <th>8</th>\n",
       "      <td>0.568359</td>\n",
       "      <td>1.905360e-03</td>\n",
       "      <td>-</td>\n",
       "      <td>-</td>\n",
       "    </tr>\n",
       "    <tr>\n",
       "      <th>9</th>\n",
       "      <td>0.567383</td>\n",
       "      <td>3.753492e-04</td>\n",
       "      <td>-</td>\n",
       "      <td>-</td>\n",
       "    </tr>\n",
       "    <tr>\n",
       "      <th>10</th>\n",
       "      <td>0.566895</td>\n",
       "      <td>-3.898588e-04</td>\n",
       "      <td>-</td>\n",
       "      <td>-</td>\n",
       "    </tr>\n",
       "    <tr>\n",
       "      <th>11</th>\n",
       "      <td>0.567139</td>\n",
       "      <td>-7.237912e-06</td>\n",
       "      <td>-</td>\n",
       "      <td>-</td>\n",
       "    </tr>\n",
       "    <tr>\n",
       "      <th>12</th>\n",
       "      <td>0.567261</td>\n",
       "      <td>1.840599e-04</td>\n",
       "      <td>-</td>\n",
       "      <td>-</td>\n",
       "    </tr>\n",
       "    <tr>\n",
       "      <th>13</th>\n",
       "      <td>0.567200</td>\n",
       "      <td>8.841203e-05</td>\n",
       "      <td>-</td>\n",
       "      <td>-</td>\n",
       "    </tr>\n",
       "    <tr>\n",
       "      <th>14</th>\n",
       "      <td>0.567169</td>\n",
       "      <td>4.058732e-05</td>\n",
       "      <td>-</td>\n",
       "      <td>-</td>\n",
       "    </tr>\n",
       "    <tr>\n",
       "      <th>15</th>\n",
       "      <td>0.567154</td>\n",
       "      <td>1.667477e-05</td>\n",
       "      <td>-</td>\n",
       "      <td>-</td>\n",
       "    </tr>\n",
       "    <tr>\n",
       "      <th>16</th>\n",
       "      <td>0.567146</td>\n",
       "      <td>4.718446e-06</td>\n",
       "      <td>-</td>\n",
       "      <td>-</td>\n",
       "    </tr>\n",
       "    <tr>\n",
       "      <th>17</th>\n",
       "      <td>0.567142</td>\n",
       "      <td>-1.259729e-06</td>\n",
       "      <td>-</td>\n",
       "      <td>-</td>\n",
       "    </tr>\n",
       "    <tr>\n",
       "      <th>18</th>\n",
       "      <td>0.567144</td>\n",
       "      <td>1.729360e-06</td>\n",
       "      <td>-</td>\n",
       "      <td>-</td>\n",
       "    </tr>\n",
       "    <tr>\n",
       "      <th>19</th>\n",
       "      <td>0.567143</td>\n",
       "      <td>2.348157e-07</td>\n",
       "      <td>-</td>\n",
       "      <td>-</td>\n",
       "    </tr>\n",
       "    <tr>\n",
       "      <th>20</th>\n",
       "      <td>0.567143</td>\n",
       "      <td>-5.124565e-07</td>\n",
       "      <td>-</td>\n",
       "      <td>-</td>\n",
       "    </tr>\n",
       "    <tr>\n",
       "      <th>21</th>\n",
       "      <td>0.567143</td>\n",
       "      <td>-1.388203e-07</td>\n",
       "      <td>-</td>\n",
       "      <td>-</td>\n",
       "    </tr>\n",
       "    <tr>\n",
       "      <th>22</th>\n",
       "      <td>0.567143</td>\n",
       "      <td>4.799769e-08</td>\n",
       "      <td>-</td>\n",
       "      <td>-</td>\n",
       "    </tr>\n",
       "    <tr>\n",
       "      <th>23</th>\n",
       "      <td>0.567143</td>\n",
       "      <td>-4.541132e-08</td>\n",
       "      <td>-</td>\n",
       "      <td>-</td>\n",
       "    </tr>\n",
       "    <tr>\n",
       "      <th>24</th>\n",
       "      <td>0.567143</td>\n",
       "      <td>1.293185e-09</td>\n",
       "      <td>-</td>\n",
       "      <td>-</td>\n",
       "    </tr>\n",
       "    <tr>\n",
       "      <th>25</th>\n",
       "      <td>0.567143</td>\n",
       "      <td>-2.205907e-08</td>\n",
       "      <td>-</td>\n",
       "      <td>-</td>\n",
       "    </tr>\n",
       "    <tr>\n",
       "      <th>26</th>\n",
       "      <td>0.567143</td>\n",
       "      <td>-1.038294e-08</td>\n",
       "      <td>-</td>\n",
       "      <td>-</td>\n",
       "    </tr>\n",
       "  </tbody>\n",
       "</table>\n",
       "</div>"
      ],
      "text/plain": [
       "    Aprox Biseccion  Error Biseccion    Aprox Newton Error Newton\n",
       "0          0.500000    -1.065307e-01  0.500000000000   -0.0671433\n",
       "1          0.750000     2.776334e-01  0.566311003197 -0.000832287\n",
       "2          0.625000     8.973857e-02  0.567143165035 -1.25375e-07\n",
       "3          0.562500    -7.282825e-03  0.567143290410 -2.88658e-15\n",
       "4          0.593750     4.149755e-02               -            -\n",
       "5          0.578125     1.717584e-02               -            -\n",
       "6          0.570312     4.963760e-03               -            -\n",
       "7          0.566406    -1.155202e-03               -            -\n",
       "8          0.568359     1.905360e-03               -            -\n",
       "9          0.567383     3.753492e-04               -            -\n",
       "10         0.566895    -3.898588e-04               -            -\n",
       "11         0.567139    -7.237912e-06               -            -\n",
       "12         0.567261     1.840599e-04               -            -\n",
       "13         0.567200     8.841203e-05               -            -\n",
       "14         0.567169     4.058732e-05               -            -\n",
       "15         0.567154     1.667477e-05               -            -\n",
       "16         0.567146     4.718446e-06               -            -\n",
       "17         0.567142    -1.259729e-06               -            -\n",
       "18         0.567144     1.729360e-06               -            -\n",
       "19         0.567143     2.348157e-07               -            -\n",
       "20         0.567143    -5.124565e-07               -            -\n",
       "21         0.567143    -1.388203e-07               -            -\n",
       "22         0.567143     4.799769e-08               -            -\n",
       "23         0.567143    -4.541132e-08               -            -\n",
       "24         0.567143     1.293185e-09               -            -\n",
       "25         0.567143    -2.205907e-08               -            -\n",
       "26         0.567143    -1.038294e-08               -            -"
      ]
     },
     "execution_count": 215,
     "metadata": {},
     "output_type": "execute_result"
    }
   ],
   "source": [
    "df"
   ]
  },
  {
   "cell_type": "code",
   "execution_count": null,
   "metadata": {},
   "outputs": [],
   "source": []
  }
 ],
 "metadata": {
  "kernelspec": {
   "display_name": "Python 3",
   "language": "python",
   "name": "python3"
  },
  "language_info": {
   "codemirror_mode": {
    "name": "ipython",
    "version": 3
   },
   "file_extension": ".py",
   "mimetype": "text/x-python",
   "name": "python",
   "nbconvert_exporter": "python",
   "pygments_lexer": "ipython3",
   "version": "3.8.5"
  }
 },
 "nbformat": 4,
 "nbformat_minor": 4
}
